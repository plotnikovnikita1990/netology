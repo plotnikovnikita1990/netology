{
  "nbformat": 4,
  "nbformat_minor": 0,
  "metadata": {
    "colab": {
      "provenance": [],
      "name": "Понятие класса.ipynb",
      "authorship_tag": "ABX9TyMlWxofYfHU785W6GalEIQJ",
      "include_colab_link": true
    },
    "kernelspec": {
      "name": "python3",
      "display_name": "Python 3"
    },
    "language_info": {
      "name": "python"
    }
  },
  "cells": [
    {
      "cell_type": "markdown",
      "metadata": {
        "id": "view-in-github",
        "colab_type": "text"
      },
      "source": [
        "<a href=\"https://colab.research.google.com/github/plotnikovnikita1990/netology/blob/main/%D0%9F%D0%BE%D0%BD%D1%8F%D1%82%D0%B8%D0%B5_%D0%BA%D0%BB%D0%B0%D1%81%D1%81%D0%B0.ipynb\" target=\"_parent\"><img src=\"https://colab.research.google.com/assets/colab-badge.svg\" alt=\"Open In Colab\"/></a>"
      ]
    },
    {
      "cell_type": "markdown",
      "source": [
        "Задание 1\n",
        "Напишите функцию, которая возвращает название валюты (поле ‘Name’) с максимальным значением курса с помощью сервиса www.cbr-xml-daily.ru...ly_json.js"
      ],
      "metadata": {
        "id": "CW_i0mU1B7Nc"
      }
    },
    {
      "cell_type": "code",
      "source": [
        "import requests"
      ],
      "metadata": {
        "id": "LR6kW9aSCH8z"
      },
      "execution_count": null,
      "outputs": []
    },
    {
      "cell_type": "code",
      "execution_count": null,
      "metadata": {
        "id": "GgTM3qPtB5bN"
      },
      "outputs": [],
      "source": [
        "class Rate:\n",
        "    def __init__(self, format_='value'):\n",
        "        self.format = format_\n",
        "\n",
        "    def name_rates(self):\n",
        "       \"\"\"\n",
        "        Возвращает ответ сервиса с информацией о валютах в виде:\n",
        "       \"\"\"\n",
        "       self.r = requests.get('https://www.cbr-xml-daily.ru/daily_json.js')\n",
        "       return self.r.json()['Valute']\n",
        "\n",
        "    def name_max_rate(self):\n",
        "        \"\"\"\n",
        "        Возвращает название валюты с максимальным курсом\n",
        "        \"\"\"\n",
        "        currencies = self.name_rates()\n",
        "\n",
        "        max_rate = 1\n",
        "        max_rate_name = ''\n",
        "        for currency in currencies.values():\n",
        "            rate = currency['Value']\n",
        "            if rate > max_rate:\n",
        "                max_rate = rate\n",
        "                max_rate_name = currency['Name']\n",
        "        return max_rate_name\n",
        "\n",
        "\n"
      ]
    },
    {
      "cell_type": "code",
      "source": [
        "r = Rate(format_='full')"
      ],
      "metadata": {
        "id": "6Bl-i27vEYw8"
      },
      "execution_count": null,
      "outputs": []
    },
    {
      "cell_type": "code",
      "source": [
        "r.name_max_rate()"
      ],
      "metadata": {
        "colab": {
          "base_uri": "https://localhost:8080/",
          "height": 36
        },
        "collapsed": true,
        "id": "ZSg1_qvsEMPM",
        "outputId": "d0a2be77-773e-4030-bbda-0a69aa8b5696"
      },
      "execution_count": null,
      "outputs": [
        {
          "output_type": "execute_result",
          "data": {
            "text/plain": [
              "'СДР (специальные права заимствования)'"
            ],
            "application/vnd.google.colaboratory.intrinsic+json": {
              "type": "string"
            }
          },
          "metadata": {},
          "execution_count": 5
        }
      ]
    },
    {
      "cell_type": "markdown",
      "source": [
        "В первом задании как вариант можно использовать более короткую версию с функцией max:"
      ],
      "metadata": {
        "id": "SnM4IwJE_mOO"
      }
    },
    {
      "cell_type": "code",
      "source": [
        "import requests\n",
        "\n",
        "r = requests.get('https://www.cbr-xml-daily.ru/daily_json.js')\n",
        "data_dict = r.json()['Valute']\n",
        "\n",
        "max(data_dict.items(), key=lambda x: x[1]['Value'])[1]['Name']"
      ],
      "metadata": {
        "colab": {
          "base_uri": "https://localhost:8080/",
          "height": 36
        },
        "id": "hKeEM3rX_p2W",
        "outputId": "dcec2a90-fe4e-49f1-9ccc-ff40fdbb30ec"
      },
      "execution_count": null,
      "outputs": [
        {
          "output_type": "execute_result",
          "data": {
            "text/plain": [
              "'СДР (специальные права заимствования)'"
            ],
            "application/vnd.google.colaboratory.intrinsic+json": {
              "type": "string"
            }
          },
          "metadata": {},
          "execution_count": 2
        }
      ]
    },
    {
      "cell_type": "markdown",
      "source": [
        "Задание 2\n",
        "Добавьте в класс Rate параметр diff (со значениями True или False), который в случае значения True в методах курсов валют (eur, usd итд) будет возвращать не курс валюты, а изменение по сравнению в прошлым значением. Считайте, self.diff будет принимать значение True только при возврате значения курса. При отображении всей информации о валюте он не используется."
      ],
      "metadata": {
        "id": "lEqzVOiZPfPj"
      }
    },
    {
      "cell_type": "code",
      "source": [
        "class Rate:\n",
        "    def __init__(self, format_='value', diff = False):\n",
        "        self.format = format_\n",
        "        self.diff = diff\n",
        "    def exchange_rates(self):\n",
        "        \"\"\"\n",
        "        Возвращает ответ сервиса с информацией о валютах в виде:\n",
        "\n",
        "        {\n",
        "            'AMD': {\n",
        "                'CharCode': 'AMD',\n",
        "                'ID': 'R01060',\n",
        "                'Name': 'Армянских драмов',\n",
        "                'Nominal': 100,\n",
        "                'NumCode': '051',\n",
        "                'Previous': 14.103,\n",
        "                'Value': 14.0879\n",
        "                },\n",
        "            ...\n",
        "        }\n",
        "        \"\"\"\n",
        "        self.r = requests.get('https://www.cbr-xml-daily.ru/daily_json.js')\n",
        "        return self.r.json()['Valute']\n",
        "\n",
        "    def make_format(self, currency):\n",
        "        \"\"\"\n",
        "        Возвращает информацию о валюте currency в двух вариантах:\n",
        "        - полная информация о валюте при self.format = 'full':\n",
        "        Rate('full').make_format('EUR')\n",
        "        {\n",
        "            'CharCode': 'EUR',\n",
        "            'ID': 'R01239',\n",
        "            'Name': 'Евро',\n",
        "            'Nominal': 1,\n",
        "            'NumCode': '978',\n",
        "            'Previous': 79.6765,\n",
        "            'Value': 79.4966\n",
        "        }\n",
        "\n",
        "        Rate('value').make_format('EUR')\n",
        "        79.4966\n",
        "        \"\"\"\n",
        "        response = self.exchange_rates()\n",
        "\n",
        "        if currency in response:\n",
        "            if self.format == 'full':\n",
        "                return response[currency]\n",
        "\n",
        "            if self.format == 'value':\n",
        "                if self.diff:\n",
        "                  return round(response[currency]['Value'] - response[currency]['Previous'], 2) # Возвращаем разницу между текущим и предыдущим значением\n",
        "                return response[currency]['Value']\n",
        "\n",
        "        return 'Error'\n",
        "\n",
        "    def eur(self):\n",
        "        \"\"\"Возвращает курс евро на сегодня в формате self.format\"\"\"\n",
        "        return self.make_format('EUR')\n",
        "\n",
        "    def usd(self):\n",
        "        \"\"\"Возвращает курс доллара на сегодня в формате self.format\"\"\"\n",
        "        return self.make_format('USD')\n",
        "\n",
        "    def brl(self):\n",
        "        \"\"\"Возвращает курс бразильского реала на сегодня в формате self.format\"\"\"\n",
        "        return self.make_format('BRL')"
      ],
      "metadata": {
        "id": "bbzGhCUuPiNr"
      },
      "execution_count": null,
      "outputs": []
    },
    {
      "cell_type": "code",
      "source": [
        "print(\"Текущий курс USD:\", Rate().usd())\n",
        "print(\"Изменение курса USD:\", Rate(diff=True).usd())\n"
      ],
      "metadata": {
        "colab": {
          "base_uri": "https://localhost:8080/"
        },
        "id": "GIUfNR1xWgiD",
        "outputId": "c70c2e8a-40be-4451-a8c1-612afb264dbb"
      },
      "execution_count": null,
      "outputs": [
        {
          "output_type": "stream",
          "name": "stdout",
          "text": [
            "Текущий курс USD: 80.7597\n",
            "Изменение курса USD: -0.38\n"
          ]
        }
      ]
    },
    {
      "cell_type": "code",
      "source": [
        "print(\"Текущий курс EUR:\", Rate().eur())\n",
        "print(\"Изменение курса EUR:\", Rate(diff=True).eur())"
      ],
      "metadata": {
        "colab": {
          "base_uri": "https://localhost:8080/"
        },
        "id": "ZVwEBZXzZdXr",
        "outputId": "7f069ad1-18bf-4d9f-ee79-e448285127fe"
      },
      "execution_count": null,
      "outputs": [
        {
          "output_type": "stream",
          "name": "stdout",
          "text": [
            "Текущий курс EUR: 93.6714\n",
            "Изменение курса EUR: 1.45\n"
          ]
        }
      ]
    },
    {
      "cell_type": "markdown",
      "source": [
        "Задание 3\n",
        "Напишите класс Designer, который учитывает количество международных премий. Подсказки в коде занятия (“Ноутбук к лекциям «Понятие класса» + презентация”, zip-файл “Используемый ноутбук к лекциям «Понятие класса»)."
      ],
      "metadata": {
        "id": "qv3isjaoZJYz"
      }
    },
    {
      "cell_type": "markdown",
      "source": [
        "Комментарий по классу Designer такой:\n",
        "Напишите класс Designer, который учитывает количество международных премий для дизайнеров (из презентации: “Повышение на 1 грейд за каждые 7 баллов. Получение международной премии – это +2 балла”). Считайте, что при выходе на работу сотрудник уже имеет две премии и их количество не меняется со стажем (конечно если хотите это можно вручную менять).\n",
        "\n",
        "Класс Designer пишется по аналогии с классом Developer из материалов занятия."
      ],
      "metadata": {
        "id": "S29b64UIZYZD"
      }
    },
    {
      "cell_type": "code",
      "source": [
        "class Employee:\n",
        "    def __init__(self, name, seniority):\n",
        "        self.name = name\n",
        "        self.seniority = seniority\n",
        "\n",
        "        self.grade = 1\n",
        "\n",
        "    def grade_up(self):\n",
        "        \"\"\"Повышает уровень сотрудника\"\"\"\n",
        "        self.grade += 1\n",
        "\n",
        "    def publish_grade(self):\n",
        "        \"\"\"Публикация результатов аккредитации сотрудников\"\"\"\n",
        "        print(self.name, self.grade)\n",
        "\n",
        "    def check_if_it_is_time_for_upgrade(self):\n",
        "        pass"
      ],
      "metadata": {
        "id": "p7MhH7_2jF5b"
      },
      "execution_count": null,
      "outputs": []
    },
    {
      "cell_type": "code",
      "source": [
        "class Designer(Employee):\n",
        "    def __init__(self, name, seniority, bonus = 2): # уже имеет две премии\n",
        "        super().__init__(name, seniority)\n",
        "        self.bonus = bonus\n",
        "\n",
        "    def check_if_it_is_time_for_upgrade(self):\n",
        "        # для каждой аккредитации увеличиваем счетчик на 1\n",
        "        # пока считаем, что все Designer проходят аккредитацию\n",
        "        self.seniority += 1\n",
        "\n",
        "        # условие повышения сотрудника из презентации\n",
        "        if (self.seniority + self.bonus*2)  % 7 == 0:\n",
        "            self.grade_up()\n",
        "\n",
        "        # публикация результатов\n",
        "        return self.publish_grade()"
      ],
      "metadata": {
        "id": "_ag1osojZY9D"
      },
      "execution_count": null,
      "outputs": []
    },
    {
      "cell_type": "code",
      "source": [
        "# дизайнер Александр только что пришел в компанию\n",
        "alex = Designer('Александр', 0)"
      ],
      "metadata": {
        "id": "BBtmqUhPPTkK"
      },
      "execution_count": null,
      "outputs": []
    },
    {
      "cell_type": "code",
      "source": [
        "for i in range(17):\n",
        "    alex.check_if_it_is_time_for_upgrade()"
      ],
      "metadata": {
        "colab": {
          "base_uri": "https://localhost:8080/"
        },
        "id": "TFnjLJbNPcjZ",
        "outputId": "f2f34089-47f2-491c-bb4d-efe1ed2a5de1"
      },
      "execution_count": null,
      "outputs": [
        {
          "output_type": "stream",
          "name": "stdout",
          "text": [
            "Александр 1\n",
            "Александр 1\n",
            "Александр 2\n",
            "Александр 2\n",
            "Александр 2\n",
            "Александр 2\n",
            "Александр 2\n",
            "Александр 2\n",
            "Александр 2\n",
            "Александр 3\n",
            "Александр 3\n",
            "Александр 3\n",
            "Александр 3\n",
            "Александр 3\n",
            "Александр 3\n",
            "Александр 3\n",
            "Александр 4\n"
          ]
        }
      ]
    },
    {
      "cell_type": "markdown",
      "source": [],
      "metadata": {
        "id": "TCFIqOCzSW7y"
      }
    }
  ]
}