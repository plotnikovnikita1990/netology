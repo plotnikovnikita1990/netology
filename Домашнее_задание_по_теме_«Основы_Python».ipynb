{
  "nbformat": 4,
  "nbformat_minor": 0,
  "metadata": {
    "colab": {
      "provenance": [],
      "name": "Домашнее задание по теме «Основы Python».ipynb"
    },
    "kernelspec": {
      "name": "python3",
      "display_name": "Python 3"
    },
    "language_info": {
      "name": "python"
    }
  },
  "cells": [
    {
      "cell_type": "markdown",
      "source": [
        "Задание 1\n",
        "Даны 2 переменных, в которых хранятся строки произвольной длины: phrase_1 и phrase_2.\n",
        "Напишите код, который проверяет какая из этих строк длиннее."
      ],
      "metadata": {
        "id": "jltdMb4PbabD"
      }
    },
    {
      "cell_type": "code",
      "source": [
        "phrase_1 = 'Насколько проще было бы писать программы, если бы не заказчики'\n",
        "phrase_2 = 'Насколько проще было бы писать программы, если бы не заказчики'"
      ],
      "metadata": {
        "id": "pcJsykTLbdpQ"
      },
      "execution_count": null,
      "outputs": []
    },
    {
      "cell_type": "code",
      "source": [
        "if len(phrase_1) > len(phrase_2):\n",
        "    print(\"Фраза 1 длиннее фразы 2\")\n",
        "elif len(phrase_1)< len(phrase_2):\n",
        "    print(\"Фраза 2 длиннее фразы 1\")\n",
        "else:\n",
        "    print(\"Фразы равной длины\")"
      ],
      "metadata": {
        "colab": {
          "base_uri": "https://localhost:8080/"
        },
        "id": "ZrpA4wmUb1vp",
        "outputId": "a763d4d7-5cc3-4c4e-9866-6fe488b24fb7"
      },
      "execution_count": null,
      "outputs": [
        {
          "output_type": "stream",
          "name": "stdout",
          "text": [
            "Фразы равной длины\n"
          ]
        }
      ]
    },
    {
      "cell_type": "markdown",
      "source": [
        "Задание 2 Дана переменная, в которой хранится число (год). Необходимо написать программу, которая выведет, является ли данный год високосным или обычным."
      ],
      "metadata": {
        "id": "WvUdVetKczqA"
      }
    },
    {
      "cell_type": "markdown",
      "source": [
        "Характеристик високосного года:\n",
        "Если год делится на 400 без остатка, он високосный.\n",
        "Если год делится на 100 без остатка, он не високосный.\n",
        "Если год делится на 4 без остатка, он високосный."
      ],
      "metadata": {
        "id": "7XN0W2WzdYWY"
      }
    },
    {
      "cell_type": "code",
      "source": [
        "year = 2019"
      ],
      "metadata": {
        "id": "a67v1gutc3tg"
      },
      "execution_count": null,
      "outputs": []
    },
    {
      "cell_type": "code",
      "source": [
        "if (year % 4 == 0 and year % 100 != 0) or (year % 400 == 0):\n",
        "    print(\"високосный год\")\n",
        "else:\n",
        "    print(\"обычный год\")"
      ],
      "metadata": {
        "colab": {
          "base_uri": "https://localhost:8080/"
        },
        "id": "w-IROhkgejnH",
        "outputId": "7e3e1865-19f9-462e-bd47-c4e93647981f"
      },
      "execution_count": null,
      "outputs": [
        {
          "output_type": "stream",
          "name": "stdout",
          "text": [
            "обычный год\n"
          ]
        }
      ]
    },
    {
      "cell_type": "markdown",
      "source": [
        "Задание 3\n",
        "Необходимо написать программу, которая будет запрашивать у пользователя месяц и дату рождения и выводить соответствующий знак зодиака."
      ],
      "metadata": {
        "id": "03UvQJixfQ1f"
      }
    },
    {
      "cell_type": "markdown",
      "source": [
        "Овен\n",
        "\n",
        "21 марта — 19 апреля\n",
        "\n",
        "Телец\n",
        "\n",
        "20 апреля — 20 мая\n",
        "\n",
        "Близнецы\n",
        "\n",
        "21 мая — 20 июня\n",
        "\n",
        "Рак\n",
        "\n",
        "21 июня — 22 июля\n",
        "\n",
        "Лев\n",
        "\n",
        "23 июля — 22 августа\n",
        "\n",
        "Дева\n",
        "\n",
        "23 августа — 22 сентября\n",
        "\n",
        "Весы\n",
        "\n",
        "23 сентября — 22 октября\n",
        "\n",
        "Скорпион\n",
        "\n",
        "23 октября — 21 ноября\n",
        "\n",
        "Стрелец\n",
        "\n",
        "22 ноября — 21 декабря\n",
        "\n",
        "Козерог\n",
        "\n",
        "22 декабря — 19 января\n",
        "\n",
        "Водолей\n",
        "\n",
        "20 января — 18 февраля\n",
        "\n",
        "Рыбы\n",
        "\n",
        "19 февраля — 20 марта"
      ],
      "metadata": {
        "id": "QXNL6OLEfSVP"
      }
    },
    {
      "cell_type": "code",
      "source": [
        " day = int(input(\"Введите день:\"))\n",
        " month = input(\"Введите месяц:\").strip().capitalize()\n",
        "\n",
        "# проверка на кол-во дней\n",
        "days_in_month = {\n",
        "    'Январь': 31,\n",
        "    'Февраль': 28,\n",
        "    'Март': 31,\n",
        "    'Апрель': 30,\n",
        "    'Май': 31,\n",
        "    'Июнь': 30,\n",
        "    'Июль': 31,\n",
        "    'Август': 31,\n",
        "    'Сентябрь': 30,\n",
        "    'Октябрь': 31,\n",
        "    'Ноябрь': 30,\n",
        "    'Декабрь': 31\n",
        "}\n",
        "\n",
        "if month not in days_in_month:\n",
        "    print(\"Ошибка: неверно указан месяц\")\n",
        "elif day < 1 or day > days_in_month[month]:\n",
        "    print(f\"Ошибка: в месяце {month} должно быть от 1 до {days_in_month[month]} дней\")\n",
        "else:\n",
        "  if (month == 'Март' and day >= 21) or (month == 'Апрель' and day <= 19):\n",
        "    print(\"Овен\")\n",
        "  elif (month == 'Апрель' and day >= 20) or (month == 'Май' and day <= 20):\n",
        "    print(\"Телец\")\n",
        "  elif (month == 'Май' and day >= 21) or (month == 'Июнь' and day <= 20):\n",
        "    print(\"Близнецы\")\n",
        "  elif (month == 'Июнь' and day >= 21) or (month == 'Июль' and day <= 22):\n",
        "    print(\"Рак\")\n",
        "  elif (month == 'Июль' and day >= 23) or (month == 'Август' and day <= 22):\n",
        "    print(\"Лев\")\n",
        "  elif (month == 'Август' and day >= 23) or (month == 'Сентябрь' and day <= 22):\n",
        "    print(\"Дева\")\n",
        "  elif (month == 'Сентябрь' and day >= 23) or (month == 'Октябрь' and day <= 22):\n",
        "    print(\"Весы\")\n",
        "  elif (month == 'Октябрь' and day >= 23) or (month == 'Ноябрь' and day <= 21):\n",
        "    print(\"Скорпион\")\n",
        "  elif (month == 'Ноябрь' and day >= 22) or (month == 'Декабрь' and day <= 21):\n",
        "    print(\"Стрелец\")\n",
        "  elif (month == 'Декабрь' and day >= 22) or (month == 'Январь' and day <= 19):\n",
        "    print(\"Козерог\")\n",
        "  elif (month == 'Январь' and day >= 20) or (month == 'Февраль' and day <= 18):\n",
        "    print(\"Водолей\")\n",
        "  elif (month == 'Февраль' and day >= 19) or (month == 'Март' and day <= 20):\n",
        "    print(\"Рыбы\")\n"
      ],
      "metadata": {
        "colab": {
          "base_uri": "https://localhost:8080/"
        },
        "id": "ZpreYHbInb1t",
        "outputId": "7473a8e2-fa6c-4fcf-b9be-e82289ed52ff"
      },
      "execution_count": null,
      "outputs": [
        {
          "output_type": "stream",
          "name": "stdout",
          "text": [
            "Введите день:31\n",
            "Введите месяц:Февраль\n",
            "Ошибка: в месяце Февраль должно быть от 1 до 28 дней\n"
          ]
        }
      ]
    },
    {
      "cell_type": "markdown",
      "source": [
        "Задание 4\n",
        "Вам нужно написать программу для подбора упаковок по размерам товара. Размеры (ширина, длина, высота) хранятся в переменных (в сантиметрах):\n",
        "\n",
        "Используйте следующие правила:\n",
        "\n",
        "если каждое из трех измерений менее или равно 15 сантиметрам, то выведите на экран \"Коробка №1\";\n",
        "если хотя бы одно из измерений больше 2 метров, то выводите \"Упаковка для лыж\";\n",
        "если хотя бы одно из измерений больше 15 сантиметров, но менее 50 сантиметров, то выводите \"Коробка №2\";\n",
        "во всех остальных случаях выводите \"Коробка №3\"."
      ],
      "metadata": {
        "id": "YUL8_UCgskIT"
      }
    },
    {
      "cell_type": "code",
      "source": [
        "width = int(input(\"Введите ширину в см.:\"))\n",
        "length = int(input(\"Введите длину в см.:\"))\n",
        "height = int(input(\"Введитевысоту в см.:\"))\n",
        "\n",
        "if (width <= 15) and length <= 15 and height <= 15:\n",
        "  print(\"Коробка №1\")\n",
        "elif (width > 200) or (length > 200) or (height > 200):\n",
        "  print(\"Упаковка для лыж\")\n",
        "elif (15 < width < 50) or (15 < length < 50) or (15 < height < 50):\n",
        "  print(\"Коробка №2\")\n",
        "else:\n",
        "  print(\"Коробка №3\")"
      ],
      "metadata": {
        "colab": {
          "base_uri": "https://localhost:8080/"
        },
        "id": "kGAzB4RSs53M",
        "outputId": "da77d28b-9648-42ee-e874-f76fb3ccc9e1"
      },
      "execution_count": null,
      "outputs": [
        {
          "output_type": "stream",
          "name": "stdout",
          "text": [
            "Введите ширину в см.:45\n",
            "Введите длину в см.:205\n",
            "Введитевысоту в см.:45\n",
            "Упаковка для лыж\n"
          ]
        }
      ]
    },
    {
      "cell_type": "markdown",
      "source": [
        "Задание 5 (необязательное)\n",
        "Дана переменная, в которой хранится шестизначное число (номер проездного билета). Напишите программу, которая будет определять, является ли данный билет \"счастливым\". Билет считается счастливым, если сумма первых трех цифр совпадает с суммой последних трех цифр номера."
      ],
      "metadata": {
        "id": "ZVL5vHqfvxIb"
      }
    },
    {
      "cell_type": "code",
      "source": [
        "number = input(\"Введите № билета (6 цифр):\")\n",
        "\n",
        "if len(number) != 6 or not number.isdigit(): # провкрка на цифры\n",
        "    print(\"Некорректный номер билета\")\n",
        "else:\n",
        "    sum_first = int(number[0]) + int(number[1]) + int(number[2])\n",
        "    sum_last = int(number[3]) + int(number[4]) + int(number[5])\n",
        "\n",
        "    if sum_first == sum_last:\n",
        "        print(\"Счастливый билет\")\n",
        "    else:\n",
        "        print(\"Несчастливый билет\")"
      ],
      "metadata": {
        "colab": {
          "base_uri": "https://localhost:8080/"
        },
        "id": "EodlM4Wev1DL",
        "outputId": "13c66009-7098-4b3f-de98-621b7de0cdb7"
      },
      "execution_count": null,
      "outputs": [
        {
          "output_type": "stream",
          "name": "stdout",
          "text": [
            "Введите № билета (6 цифр):123321\n",
            "Счастливый билет\n"
          ]
        }
      ]
    }
  ]
}