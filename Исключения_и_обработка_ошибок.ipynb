{
  "nbformat": 4,
  "nbformat_minor": 0,
  "metadata": {
    "colab": {
      "provenance": [],
      "name": "Исключения и обработка ошибок.ipynb",
      "authorship_tag": "ABX9TyPQ0pzwfbQvLZnC9eA7sX1K",
      "include_colab_link": true
    },
    "kernelspec": {
      "name": "python3",
      "display_name": "Python 3"
    },
    "language_info": {
      "name": "python"
    }
  },
  "cells": [
    {
      "cell_type": "markdown",
      "metadata": {
        "id": "view-in-github",
        "colab_type": "text"
      },
      "source": [
        "<a href=\"https://colab.research.google.com/github/plotnikovnikita1990/netology/blob/main/%D0%98%D1%81%D0%BA%D0%BB%D1%8E%D1%87%D0%B5%D0%BD%D0%B8%D1%8F_%D0%B8_%D0%BE%D0%B1%D1%80%D0%B0%D0%B1%D0%BE%D1%82%D0%BA%D0%B0_%D0%BE%D1%88%D0%B8%D0%B1%D0%BE%D0%BA.ipynb\" target=\"_parent\"><img src=\"https://colab.research.google.com/assets/colab-badge.svg\" alt=\"Open In Colab\"/></a>"
      ]
    },
    {
      "cell_type": "markdown",
      "source": [
        "Задание 1\n",
        "Печатные газеты использовали свой формат дат для каждого выпуска. Для каждой газеты из списка напишите формат указанной даты для перевода в объект datetime:\n",
        "The Moscow Times — Wednesday, October 2, 2002\n",
        "The Guardian — Friday, 11.10.13\n",
        "Daily News — Thursday, 18 August 1977"
      ],
      "metadata": {
        "id": "FMEmAEv5Um15"
      }
    },
    {
      "cell_type": "code",
      "execution_count": null,
      "metadata": {
        "id": "iM6JTufMUlaj"
      },
      "outputs": [],
      "source": [
        "from datetime import datetime"
      ]
    },
    {
      "cell_type": "code",
      "source": [
        "the_moscow_times = 'Wednesday, October 2, 2002'\n",
        "the_guardian = 'Friday, 11.10.13'\n",
        "daily_news = 'Thursday, 18 August 1977'\n"
      ],
      "metadata": {
        "id": "4mmOtbJ2VJNR"
      },
      "execution_count": null,
      "outputs": []
    },
    {
      "cell_type": "code",
      "source": [
        "date_the_moscow_times = datetime.strptime(the_moscow_times, '%A, %B %d, %Y')\n",
        "date_the_guardian_times = datetime.strptime(the_guardian, '%A, %d.%m.%y')\n",
        "date_daily_news_times = datetime.strptime(daily_news, '%A, %d %B %Y')\n",
        "\n",
        "print(date_the_moscow_times)\n",
        "print(date_the_guardian_times)\n",
        "print(date_daily_news_times)\n",
        "\n",
        "\n"
      ],
      "metadata": {
        "colab": {
          "base_uri": "https://localhost:8080/"
        },
        "id": "HBQB9t_WWK1p",
        "outputId": "20b6297f-34cc-4970-bf5d-65feab30e78e"
      },
      "execution_count": null,
      "outputs": [
        {
          "output_type": "stream",
          "name": "stdout",
          "text": [
            "2002-10-02 00:00:00\n",
            "2013-10-11 00:00:00\n",
            "1977-08-18 00:00:00\n"
          ]
        }
      ]
    },
    {
      "cell_type": "markdown",
      "source": [
        "Задание 2\n",
        "Дан поток дат в формате YYYY-MM-DD, в которых встречаются некорректные значения:\n",
        "stream = [‘2018-04-02’, ‘2018-02-29’, ‘2018-19-02’]\n",
        "\n",
        "Напишите функцию, которая проверяет эти даты на корректность. То есть для каждой даты возвращает True — дата корректна или False — некорректная."
      ],
      "metadata": {
        "id": "UZnKsm0QYxhB"
      }
    },
    {
      "cell_type": "code",
      "source": [
        "stream = ['2018-04-02', '2018-02-29', '2018-19-02']"
      ],
      "metadata": {
        "id": "aCxBtw1QY0ZY"
      },
      "execution_count": null,
      "outputs": []
    },
    {
      "cell_type": "code",
      "execution_count": null,
      "metadata": {
        "tags": [],
        "id": "otjCiKKAZO9M",
        "outputId": "62fa2d34-37aa-4263-eeb9-8c59d00624e5",
        "colab": {
          "base_uri": "https://localhost:8080/"
        }
      },
      "outputs": [
        {
          "output_type": "stream",
          "name": "stdout",
          "text": [
            "2018-04-02 дата корректна\n",
            "2018-02-29 некорректная дата\n",
            "2018-19-02 некорректная дата\n"
          ]
        }
      ],
      "source": [
        "for dt in stream:\n",
        "    # проверка корректности даты\n",
        "    try:\n",
        "        datetime.strptime(dt, '%Y-%m-%d')\n",
        "        print(dt, 'дата корректна')\n",
        "    except ValueError:  # проверяем исключительно тип ValueError\n",
        "        print(dt, 'некорректная дата')\n",
        "\n"
      ]
    },
    {
      "cell_type": "markdown",
      "source": [
        "Задание 3\n",
        "Напишите функцию date_range, которая возвращает список дат за период от start_date до end_date. Даты должны вводиться в формате YYYY-MM-DD. В случае неверного формата или при start_date > end_date должен возвращаться пустой список."
      ],
      "metadata": {
        "id": "XOzBCUZPa_bh"
      }
    },
    {
      "cell_type": "code",
      "source": [
        "from datetime import datetime, timedelta"
      ],
      "metadata": {
        "id": "s42ZvhWHPK-u"
      },
      "execution_count": null,
      "outputs": []
    },
    {
      "cell_type": "code",
      "source": [
        "def date_range(start_date, end_date):\n",
        "    date_list = []\n",
        "    try:\n",
        "        start_dt = datetime.strptime(start_date, '%Y-%m-%d') # форматирую дату в ГГГГ-ММ-ДД\n",
        "        end_dt = datetime.strptime(end_date, '%Y-%m-%d') # форматирую дату в ГГГГ-ММ-ДД\n",
        "        if start_dt > end_dt:\n",
        "            return date_list\n",
        "        while start_dt <= end_dt:\n",
        "            date_list.append(start_dt.strftime('%Y-%m-%d'))  # добавляю в date_list\n",
        "            start_dt += timedelta(days=1) # увеличиваю на 1 день\n",
        "        return date_list\n",
        "    except ValueError:  # проверяем исключительно тип ValueError\n",
        "        return date_list\n",
        "print(date_range('2025-04-01', '2025-04-07'))\n"
      ],
      "metadata": {
        "colab": {
          "base_uri": "https://localhost:8080/"
        },
        "id": "FbOnqtkzbAC4",
        "outputId": "45ffd10a-6731-4a0c-ef6f-e70e886fa493"
      },
      "execution_count": null,
      "outputs": [
        {
          "output_type": "stream",
          "name": "stdout",
          "text": [
            "['2025-04-01', '2025-04-02', '2025-04-03', '2025-04-04', '2025-04-05', '2025-04-06', '2025-04-07']\n"
          ]
        }
      ]
    },
    {
      "cell_type": "markdown",
      "source": [
        "В третьем задании лучше не добавлять в конструкцию try-except много строк кода. Ошибка может возникнуть, например, в цикле (и надо будет разбираться что случилось). А функция все равно вернет пустой список как в случае неверной даты.\n",
        "\n",
        "Лучше оставить в блоке только расшифровку дат:"
      ],
      "metadata": {
        "id": "G_JVYMFwZZVL"
      }
    },
    {
      "cell_type": "code",
      "source": [
        "def date_range(start_date, end_date):\n",
        " try:\n",
        "   start_dt = datetime.strptime(start_date, '%Y-%m-%d') # форматирую дату в ГГГГ-ММ-ДД\n",
        "   end_dt = datetime.strptime(end_date, '%Y-%m-%d') # форматирую дату в ГГГГ-ММ-ДД\n",
        "except ValueError:\n",
        "   return []\n",
        "print(date_range('2025-24-01', '2025-04-07'))"
      ],
      "metadata": {
        "colab": {
          "base_uri": "https://localhost:8080/",
          "height": 111
        },
        "id": "VLok7lZDZcqe",
        "outputId": "0a05dc94-c451-4207-b291-d2473f920058"
      },
      "execution_count": null,
      "outputs": [
        {
          "output_type": "error",
          "ename": "SyntaxError",
          "evalue": "expected 'except' or 'finally' block (<ipython-input-10-e4498fc655af>, line 5)",
          "traceback": [
            "\u001b[0;36m  File \u001b[0;32m\"<ipython-input-10-e4498fc655af>\"\u001b[0;36m, line \u001b[0;32m5\u001b[0m\n\u001b[0;31m    except ValueError:\u001b[0m\n\u001b[0m                      ^\u001b[0m\n\u001b[0;31mSyntaxError\u001b[0m\u001b[0;31m:\u001b[0m expected 'except' or 'finally' block\n"
          ]
        }
      ]
    },
    {
      "cell_type": "markdown",
      "source": [
        "Задание 4 (необязательное)\n",
        "Ваш коллега прислал код функции:\n",
        "\n",
        "DEFAULT_USER_COUNT = 3\n",
        "\n",
        "def delete_and_return_last_user(region, default_list=[‘A100’, ‘A101’, ‘A102’]):\n",
        "\"\"“\n",
        "Удаляет из списка default_list последнего пользователя\n",
        "и возвращает ID нового последнего пользователя.\n",
        "”\"\"\n",
        "element_to_delete = default_list[-1]\n",
        "default_list.remove(element_to_delete)\n",
        "\n",
        "1\n",
        "return default_list[DEFAULT_USER_COUNT-2]\n",
        "При однократном вызове этой функции всё работает корректно:\n",
        "delete_and_return_last_user(1)\n",
        "‘A101’\n",
        "\n",
        "Однако при повторном вызове получается ошибка IndexError: list index out of range.\n",
        "\n",
        "Задание:\n",
        "\n",
        "Что значит ошибка list index out of range?\n",
        "Почему при первом запуске функция работает корректно, а при втором — нет?"
      ],
      "metadata": {
        "id": "sR5RC2jJSo3w"
      }
    },
    {
      "cell_type": "code",
      "source": [
        "def delete_and_return_last_user(region, default_list=['A100', 'A101', 'A102']):\n",
        "    \"\"\"\n",
        "    Удаляет из списка default_list последнего пользователя\n",
        "    и возвращает ID нового последнего пользователя.\n",
        "    \"\"\"\n",
        "    element_to_delete = default_list[-1]\n",
        "    default_list.remove(element_to_delete)\n",
        "    return default_list[DEFAULT_USER_COUNT-2]\n"
      ],
      "metadata": {
        "id": "OWsJAA2rSogB"
      },
      "execution_count": null,
      "outputs": []
    },
    {
      "cell_type": "code",
      "source": [
        "delete_and_return_last_user(1)"
      ],
      "metadata": {
        "colab": {
          "base_uri": "https://localhost:8080/",
          "height": 240
        },
        "id": "CSK1kTjBU8sv",
        "outputId": "ea915bc2-a173-4292-f433-7f07d1256e42"
      },
      "execution_count": null,
      "outputs": [
        {
          "output_type": "error",
          "ename": "IndexError",
          "evalue": "list index out of range",
          "traceback": [
            "\u001b[0;31m---------------------------------------------------------------------------\u001b[0m",
            "\u001b[0;31mIndexError\u001b[0m                                Traceback (most recent call last)",
            "\u001b[0;32m<ipython-input-50-bfb6c4f8c48e>\u001b[0m in \u001b[0;36m<cell line: 0>\u001b[0;34m()\u001b[0m\n\u001b[0;32m----> 1\u001b[0;31m \u001b[0mdelete_and_return_last_user\u001b[0m\u001b[0;34m(\u001b[0m\u001b[0;36m1\u001b[0m\u001b[0;34m)\u001b[0m\u001b[0;34m\u001b[0m\u001b[0;34m\u001b[0m\u001b[0m\n\u001b[0m",
            "\u001b[0;32m<ipython-input-48-d78e77cff3ab>\u001b[0m in \u001b[0;36mdelete_and_return_last_user\u001b[0;34m(region, default_list)\u001b[0m\n\u001b[1;32m      6\u001b[0m     \u001b[0melement_to_delete\u001b[0m \u001b[0;34m=\u001b[0m \u001b[0mdefault_list\u001b[0m\u001b[0;34m[\u001b[0m\u001b[0;34m-\u001b[0m\u001b[0;36m1\u001b[0m\u001b[0;34m]\u001b[0m\u001b[0;34m\u001b[0m\u001b[0;34m\u001b[0m\u001b[0m\n\u001b[1;32m      7\u001b[0m     \u001b[0mdefault_list\u001b[0m\u001b[0;34m.\u001b[0m\u001b[0mremove\u001b[0m\u001b[0;34m(\u001b[0m\u001b[0melement_to_delete\u001b[0m\u001b[0;34m)\u001b[0m\u001b[0;34m\u001b[0m\u001b[0;34m\u001b[0m\u001b[0m\n\u001b[0;32m----> 8\u001b[0;31m     \u001b[0;32mreturn\u001b[0m \u001b[0mdefault_list\u001b[0m\u001b[0;34m[\u001b[0m\u001b[0mDEFAULT_USER_COUNT\u001b[0m\u001b[0;34m-\u001b[0m\u001b[0;36m2\u001b[0m\u001b[0;34m]\u001b[0m\u001b[0;34m\u001b[0m\u001b[0;34m\u001b[0m\u001b[0m\n\u001b[0m",
            "\u001b[0;31mIndexError\u001b[0m: list index out of range"
          ]
        }
      ]
    },
    {
      "cell_type": "markdown",
      "source": [
        "Ошибка IndexError: list index out of range возникает в Python, когда программа пытается получить доступ к элементу списка по индексу, который выходит за границы текущей длины списка. Например, если список содержит 2 элемента (индексы 0 и 1), а код пытается обратиться к индексу 2, Python выдаст эту ошибку."
      ],
      "metadata": {
        "id": "7tn3BRmXWzLv"
      }
    },
    {
      "cell_type": "markdown",
      "source": [
        "При первом вызове delete_and_return_last_user(1) список становится ['A100', 101'] (2 элемента, индексы 0, 1). Возвращается 'A101'\n",
        "При повторном вызове default_list=['A100'] (1 элемент, индекс 0), а default_list[DEFAULT_USER_COUNT-2] пытается вернуть элемент, которого уже нет в списке"
      ],
      "metadata": {
        "id": "qx7Vu1CbXJ-d"
      }
    }
  ]
}