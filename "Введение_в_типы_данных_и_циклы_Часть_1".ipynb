{
  "nbformat": 4,
  "nbformat_minor": 0,
  "metadata": {
    "colab": {
      "provenance": [],
      "name": "\"Введение в типы данных и циклы. Часть 1\".ipynb",
      "authorship_tag": "ABX9TyOorj6tUAGs4elGqRYjJCP2",
      "include_colab_link": true
    },
    "kernelspec": {
      "name": "python3",
      "display_name": "Python 3"
    },
    "language_info": {
      "name": "python"
    }
  },
  "cells": [
    {
      "cell_type": "markdown",
      "metadata": {
        "id": "view-in-github",
        "colab_type": "text"
      },
      "source": [
        "<a href=\"https://colab.research.google.com/github/plotnikovnikita1990/netology/blob/main/%22%D0%92%D0%B2%D0%B5%D0%B4%D0%B5%D0%BD%D0%B8%D0%B5_%D0%B2_%D1%82%D0%B8%D0%BF%D1%8B_%D0%B4%D0%B0%D0%BD%D0%BD%D1%8B%D1%85_%D0%B8_%D1%86%D0%B8%D0%BA%D0%BB%D1%8B_%D0%A7%D0%B0%D1%81%D1%82%D1%8C_1%22.ipynb\" target=\"_parent\"><img src=\"https://colab.research.google.com/assets/colab-badge.svg\" alt=\"Open In Colab\"/></a>"
      ]
    },
    {
      "cell_type": "markdown",
      "source": [
        "Задание 1\n",
        "Дана переменная, в которой хранится слово из латинских букв. Напишите код, который выводит на экран:\n",
        "\n",
        "среднюю букву, если число букв в слове нечетное;\n",
        "две средних буквы, если число букв четное."
      ],
      "metadata": {
        "id": "GKV-NMTdP6Dq"
      }
    },
    {
      "cell_type": "code",
      "source": [
        "word = 'test'\n",
        "len(word)\n",
        "length = len(word)//2\n",
        "if len(word)%2 != 0:\n",
        "  print(word[length])\n",
        "else:\n",
        "  print(word[length-1:length+1])\n"
      ],
      "metadata": {
        "colab": {
          "base_uri": "https://localhost:8080/"
        },
        "id": "nz4nwg0OSSqn",
        "outputId": "90e06fb8-8849-4c47-8045-282071c4cde3"
      },
      "execution_count": null,
      "outputs": [
        {
          "output_type": "stream",
          "name": "stdout",
          "text": [
            "es\n"
          ]
        }
      ]
    },
    {
      "cell_type": "markdown",
      "source": [
        "Задание 2\n",
        "Напишите программу, которая последовательно запрашивает у пользователя числа (по одному за раз) и после первого нуля выводит сумму всех ранее введенных чисел."
      ],
      "metadata": {
        "id": "MHLlmHp5X3y1"
      }
    },
    {
      "cell_type": "code",
      "source": [
        "sum = 0 # переменные лучше не называть операторами sum_\n",
        "while True:\n",
        "    x = int(input('Введите число: '))\n",
        "    if x == 0:\n",
        "        break\n",
        "    sum += x\n",
        "print(sum)"
      ],
      "metadata": {
        "colab": {
          "base_uri": "https://localhost:8080/"
        },
        "id": "iNNJfOVVcFBs",
        "outputId": "60e81803-93d6-4af7-a9d7-98805fcfdd19"
      },
      "execution_count": null,
      "outputs": [
        {
          "output_type": "stream",
          "name": "stdout",
          "text": [
            "Введите число: 1\n",
            "Введите число: 4\n",
            "Введите число: 6\n",
            "Введите число: 0\n",
            "11\n"
          ]
        }
      ]
    },
    {
      "cell_type": "markdown",
      "source": [
        "Задание 3\n",
        "Мы делаем MVP dating-сервиса, и у нас есть список парней и девушек.\n",
        "Выдвигаем гипотезу: лучшие рекомендации мы получим, если просто отсортируем имена по алфавиту и познакомим людей с одинаковыми индексами после сортировки! Но мы не будем никого знакомить, если кто-то может остаться без пары:"
      ],
      "metadata": {
        "id": "cF7XZOS0dVTs"
      }
    },
    {
      "cell_type": "code",
      "source": [
        "boys = ['Peter', 'Alex', 'John', 'Arthur', 'Richard']\n",
        "girls = ['Kate', 'Liza', 'Kira', 'Emma', 'Trisha']\n",
        "\n",
        "if len(boys) != len(girls):\n",
        "    print(\"Внимание, кто-то может остаться без пары!\")\n",
        "else:\n",
        "    print('Идеальные пары:')\n",
        "    boys_sorted = sorted(boys)\n",
        "    girls_sorted = sorted(girls)\n",
        "    for boy, girl in zip(boys_sorted, girls_sorted):\n",
        "      print(f'{boy} и {girl}')"
      ],
      "metadata": {
        "colab": {
          "base_uri": "https://localhost:8080/"
        },
        "id": "1CTtAIFxdWbT",
        "outputId": "d3221eb0-de75-467f-e174-1c1ccd2d7ff6"
      },
      "execution_count": null,
      "outputs": [
        {
          "output_type": "stream",
          "name": "stdout",
          "text": [
            "Идеальные пары:\n",
            "Alex и Emma\n",
            "Arthur и Kate\n",
            "John и Kira\n",
            "Peter и Liza\n",
            "Richard и Trisha\n"
          ]
        }
      ]
    },
    {
      "cell_type": "markdown",
      "source": [
        "Задание 4 У нас есть список, содержащий информацию о среднедневной температуре в Фаренгейтах за произвольный период по странам (структура данных в примере). Необходимо написать код, который рассчитает среднюю температуру за период в Цельсиях(!) для каждой страны."
      ],
      "metadata": {
        "id": "gXNEHuGbmMhZ"
      }
    },
    {
      "cell_type": "markdown",
      "source": [
        "Чтобы перевести градусы Фаренгейта в градусы Цельсия, нужно отнять от температуры по Фаренгейту 32, умножить полученное значение на 5 и разделить на 9"
      ],
      "metadata": {
        "id": "y2os-2L5oU9h"
      }
    },
    {
      "cell_type": "code",
      "source": [
        "countries_temperature = [\n",
        "    ['Таиланд', [75.2, 77, 78.8, 73.4, 68, 75.2, 77]],\n",
        "    ['Германия', [57.2, 55.4, 59, 59, 53.6]],\n",
        "    ['Россия', [35.6, 37.4, 39.2, 41, 42.8, 39.2, 35.6]],\n",
        "    ['Польша', [50, 50, 53.6, 57.2, 55.4, 55.4]]\n",
        "]\n",
        "for country_name, temperature in countries_temperature:\n",
        "    c_temps = [(temp - 32) * 5/9 for temp in temperature] # Конвертируем температуру из Фаренгейтов в Цельсии\n",
        "\n",
        "    average_temps = round(sum(c_temps) / len(c_temps), 1)  # Вычисляем среднюю температуру в Цельсиях с округлением до 1 знака\n",
        "\n",
        "    print(f'{country_name} - {average_temps} °C')"
      ],
      "metadata": {
        "colab": {
          "base_uri": "https://localhost:8080/"
        },
        "id": "8vsSCHNDsDkX",
        "outputId": "9a97c0ae-a808-4438-e61c-ec4f47d97ec6"
      },
      "execution_count": null,
      "outputs": [
        {
          "output_type": "stream",
          "name": "stdout",
          "text": [
            "Таиланд - 23.9 °C\n",
            "Германия - 13.8 °C\n",
            "Россия - 3.7 °C\n",
            "Польша - 12.0 °C\n"
          ]
        }
      ]
    },
    {
      "cell_type": "markdown",
      "source": [
        "Задание 5 (необязательное)\n",
        "Имеется список с транспортными номерами. Необходимо написать код, который проверит каждый номер на валидность (1 буква, 3 цифры, 2 буквы, 2-3 цифры). Обратите внимание, что не все буквы кириллического алфавита используются в транспортных номерах.\n",
        "\n",
        "Если номер валиден, то вывести его в нужном формавте (пример ниже), а если не валиден — вывести текст. При решении помогут регулярные выражения, с которыми будет знакомство на практике."
      ],
      "metadata": {
        "id": "LIoRdiMbzTmW"
      }
    },
    {
      "cell_type": "markdown",
      "source": [
        "в России используются 12 букв кириллицы: А, В, Е, К, М, Н, О, Р, С, Т, У и Х"
      ],
      "metadata": {
        "id": "OZdhpCuARkBV"
      }
    },
    {
      "cell_type": "code",
      "source": [
        "import re\n",
        "\n",
        "car_ids = ['А222ВС96', 'АБ22ВВ193']\n",
        "\n",
        "for car_id in car_ids:\n",
        "    pattern = r'^([АВЕКМНОРСТУХ]\\d{3}[АВЕКМНОРСТУХ]{2})(\\d{2,3})$'\n",
        "    match_result = re.search(pattern, car_id)\n",
        "    if match_result:\n",
        "        number_part = match_result.group(1)\n",
        "        region = match_result.group(2)\n",
        "        print(f'Номер {number_part} валиден. Регион: {region}')\n",
        "    else:\n",
        "        print(f'Номер {car_id} не валиден')"
      ],
      "metadata": {
        "colab": {
          "base_uri": "https://localhost:8080/"
        },
        "id": "CR2MPrjTzUbX",
        "outputId": "a8a030e9-c4f9-4a51-d88c-8b9512861207"
      },
      "execution_count": null,
      "outputs": [
        {
          "output_type": "stream",
          "name": "stdout",
          "text": [
            "Номер А222ВС валиден. Регион: 96\n",
            "Номер АБ22ВВ193 не валиден\n"
          ]
        }
      ]
    },
    {
      "cell_type": "markdown",
      "source": [
        "Задание 6 (необязательное)\n",
        "Дан поток логов по количеству просмотренных страниц для каждого пользователя (пользователь,дата;просмотры). Вам необходимо написать алгоритм, который считает среднее значение просмотров на пользователя. Т. е. надо посчитать отношение суммы всех просмотров к количеству уникальных пользователей. И тут регулярные выражения облегчат немного реализацию."
      ],
      "metadata": {
        "id": "CrVsnRogUIGM"
      }
    },
    {
      "cell_type": "code",
      "source": [
        "stream = [\n",
        "    'user100,2022-01-01;150',\n",
        "    'user99,2022-01-07;205',\n",
        "    'user1001,2022-03-29;81'\n",
        "]\n",
        "\n",
        "import re\n",
        "\n",
        "total_views = 0\n",
        "unique_users = set()\n",
        "\n",
        "for log in stream:\n",
        "  match_result = re.search(r'^([^,]+),([^;]+);(\\d+)$', log)\n",
        "  if match_result:\n",
        "    user = match_result.group(1)\n",
        "    views = int(match_result.group(3))\n",
        "    unique_users.add(user)\n",
        "    total_views += views\n",
        "\n",
        "avg = round(total_views / len(unique_users), 2)\n",
        "\n",
        "print (f'Среднее количество просмотров на уникального пользователя: {avg}')\n"
      ],
      "metadata": {
        "colab": {
          "base_uri": "https://localhost:8080/"
        },
        "id": "idHWFliVUJBE",
        "outputId": "8ec29110-6837-4e38-9096-15b9b984e0ec"
      },
      "execution_count": null,
      "outputs": [
        {
          "output_type": "stream",
          "name": "stdout",
          "text": [
            "Среднее количество просмотров на уникального пользователя: 145.33\n"
          ]
        }
      ]
    },
    {
      "cell_type": "code",
      "source": [
        "items = [1, 5, 76, 12, 123, 333, 5, 6, 7]"
      ],
      "metadata": {
        "id": "1RY5Mtxt21tz"
      },
      "execution_count": null,
      "outputs": []
    }
  ]
}