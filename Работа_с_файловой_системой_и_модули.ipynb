{
  "nbformat": 4,
  "nbformat_minor": 0,
  "metadata": {
    "colab": {
      "provenance": [],
      "name": "Работа с файловой системой и модули.ipynb",
      "mount_file_id": "1a2zUVLBK59zl7SRXIwFtQvJnRSlHtsPM",
      "authorship_tag": "ABX9TyOuyzAgrHdi1hqLCM0wp1Ls",
      "include_colab_link": true
    },
    "kernelspec": {
      "name": "python3",
      "display_name": "Python 3"
    },
    "language_info": {
      "name": "python"
    }
  },
  "cells": [
    {
      "cell_type": "markdown",
      "metadata": {
        "id": "view-in-github",
        "colab_type": "text"
      },
      "source": [
        "<a href=\"https://colab.research.google.com/github/plotnikovnikita1990/netology/blob/main/%D0%A0%D0%B0%D0%B1%D0%BE%D1%82%D0%B0_%D1%81_%D1%84%D0%B0%D0%B9%D0%BB%D0%BE%D0%B2%D0%BE%D0%B9_%D1%81%D0%B8%D1%81%D1%82%D0%B5%D0%BC%D0%BE%D0%B9_%D0%B8_%D0%BC%D0%BE%D0%B4%D1%83%D0%BB%D0%B8.ipynb\" target=\"_parent\"><img src=\"https://colab.research.google.com/assets/colab-badge.svg\" alt=\"Open In Colab\"/></a>"
      ]
    },
    {
      "cell_type": "markdown",
      "source": [
        "Переведите содержимое файла purchase_log.txt* в словарь purchases вида:\n",
        "{‘1840e0b9d4’: ‘Продукты’, …}\n",
        "\n",
        "Для каждого user_id в файле visit_log.csv определите третий столбец с категорией покупки, если покупка была, сам файл visit_log.csv* изменять не надо. Запишите в файл funnel.csv визиты из файла visit_log.csv*, в которых были покупки с указанием категории.\n",
        "Учтите условия на данные:\n",
        "содержимое purchase_log.txt* помещается в оперативную память компьютера;\n",
        "содержимое visit_log.csv* — нет; используйте только построчную обработку этого файла."
      ],
      "metadata": {
        "id": "K8r_u_adQK2O"
      }
    },
    {
      "cell_type": "code",
      "execution_count": null,
      "metadata": {
        "id": "_dJLZIx162pH"
      },
      "outputs": [],
      "source": [
        "f = open('/content/drive/MyDrive/Python обучение/Downloads/purchase_log.txt', 'r', encoding='utf-8')"
      ]
    },
    {
      "cell_type": "code",
      "source": [
        "f.readline()"
      ],
      "metadata": {
        "colab": {
          "base_uri": "https://localhost:8080/",
          "height": 36
        },
        "id": "GWGe_1fVQa_2",
        "outputId": "e9a79d75-5eb0-427b-c500-7bbb158780e1"
      },
      "execution_count": null,
      "outputs": [
        {
          "output_type": "execute_result",
          "data": {
            "text/plain": [
              "'{\"user_id\": \"1840e0b9d4\", \"category\": \"Продукты\"}\\n'"
            ],
            "application/vnd.google.colaboratory.intrinsic+json": {
              "type": "string"
            }
          },
          "metadata": {},
          "execution_count": 7
        }
      ]
    },
    {
      "cell_type": "code",
      "source": [
        "import json\n",
        "\n",
        "i = 0 # для проверки, что бы не выводить весь словарь\n",
        "dict_ = {}\n",
        "with open('/content/drive/MyDrive/Python обучение/Downloads/purchase_log.txt', 'r', encoding='utf-8') as f:\n",
        "    for line in f:\n",
        "        line = json.loads(line.strip())\n",
        "        dict_[line['user_id']]=line['category']\n",
        "\n",
        "        i += 1\n",
        "        if i == 5:\n",
        "          print(dict_)\n",
        "\n",
        "# print(dict_) - # для проверки\n",
        "print(f\"Загружено {len(dict_)} строк\")"
      ],
      "metadata": {
        "colab": {
          "base_uri": "https://localhost:8080/"
        },
        "id": "e6S8dzWpQf-N",
        "outputId": "689bfbf2-8a73-45f4-8c29-e51424ce6a4f"
      },
      "execution_count": null,
      "outputs": [
        {
          "output_type": "stream",
          "name": "stdout",
          "text": [
            "{'user_id': 'category', '1840e0b9d4': 'Продукты', '4e4f90fcfb': 'Электроника', 'afea8d72fc': 'Электроника', '373a6055fe': 'Бытовая техника'}\n",
            "Загружено 99518 строк\n"
          ]
        }
      ]
    },
    {
      "cell_type": "code",
      "source": [
        "with open('/content/drive/MyDrive/Python обучение/Downloads/visit_log.csv', 'r', encoding='utf-8') as f_read:\n",
        "    with open('funnel.csv', 'w', encoding='utf-8') as f_write:\n",
        "        written_lines = 0 # - для проверки\n",
        "        for line in f_read:\n",
        "            user_id = line.strip().split(',')[0] # - разбиваю строку по разделителю, ибираю лишние пробелы и переносы, вытаскиваю user_id из f_read\n",
        "            if user_id in dict_: # - если user_id из f_read   содержится в созданом словаре dict_\n",
        "                result_line = line.strip() + ',' + dict_[user_id] + '\\n' # - то записываю результат, строка из f_read + dict_[user_id] - вернет категорию\n",
        "                f_write.write(result_line) # - запись в файл\n",
        "                written_lines += 1 # - для проверки\n",
        "\n",
        "print(f\"Записано {written_lines} строк в funnel.csv\") # - для проверки\n"
      ],
      "metadata": {
        "colab": {
          "base_uri": "https://localhost:8080/"
        },
        "id": "0OPcgltaUZrm",
        "outputId": "d9711667-e6d6-4ab0-815a-0786059b7126"
      },
      "execution_count": null,
      "outputs": [
        {
          "output_type": "stream",
          "name": "stdout",
          "text": [
            "Записано 13799 строк в funnel.csv\n"
          ]
        }
      ]
    },
    {
      "cell_type": "code",
      "source": [
        "f3 = open('/content/funnel.csv', 'r', encoding='utf-8')"
      ],
      "metadata": {
        "id": "ULEf73mAd57-"
      },
      "execution_count": null,
      "outputs": []
    },
    {
      "cell_type": "code",
      "source": [
        "content = f3.readlines()"
      ],
      "metadata": {
        "id": "vg4uNk28e-y9"
      },
      "execution_count": null,
      "outputs": []
    },
    {
      "cell_type": "code",
      "source": [
        "content[:5]"
      ],
      "metadata": {
        "colab": {
          "base_uri": "https://localhost:8080/"
        },
        "id": "kImV0xgHfJ5l",
        "outputId": "45f14570-2eac-417d-b9a0-67b348790182"
      },
      "execution_count": null,
      "outputs": [
        {
          "output_type": "execute_result",
          "data": {
            "text/plain": [
              "['user_id,source,category\\n',\n",
              " '1840e0b9d4,other,Продукты\\n',\n",
              " '4e4f90fcfb,context,Электроника\\n',\n",
              " 'afea8d72fc,other,Электроника\\n',\n",
              " '2824221f38,email,Продукты\\n']"
            ]
          },
          "metadata": {},
          "execution_count": 53
        }
      ]
    }
  ]
}