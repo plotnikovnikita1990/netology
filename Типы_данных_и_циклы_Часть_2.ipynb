{
  "nbformat": 4,
  "nbformat_minor": 0,
  "metadata": {
    "colab": {
      "provenance": [],
      "name": "Типы данных и циклы. Часть 2.ipynb",
      "authorship_tag": "ABX9TyNw8HqOXxSx7CLiobzLvb7i",
      "include_colab_link": true
    },
    "kernelspec": {
      "name": "python3",
      "display_name": "Python 3"
    },
    "language_info": {
      "name": "python"
    }
  },
  "cells": [
    {
      "cell_type": "markdown",
      "metadata": {
        "id": "view-in-github",
        "colab_type": "text"
      },
      "source": [
        "<a href=\"https://colab.research.google.com/github/plotnikovnikita1990/netology/blob/main/%D0%A2%D0%B8%D0%BF%D1%8B_%D0%B4%D0%B0%D0%BD%D0%BD%D1%8B%D1%85_%D0%B8_%D1%86%D0%B8%D0%BA%D0%BB%D1%8B_%D0%A7%D0%B0%D1%81%D1%82%D1%8C_2.ipynb\" target=\"_parent\"><img src=\"https://colab.research.google.com/assets/colab-badge.svg\" alt=\"Open In Colab\"/></a>"
      ]
    },
    {
      "cell_type": "markdown",
      "source": [
        "Задание 1\n",
        "Дана переменная, в которой хранится словарь, содержащий гео-метки для каждого пользователя (пример структуры данных приведен ниже). Вам необходимо написать программу, которая выведет на экран множество уникальных гео-меток всех пользователей.\n",
        "ids = {‘user1’: [213, 213, 213, 15, 213],\n",
        "‘user2’: [54, 54, 119, 119, 119],\n",
        "‘user3’: [213, 98, 98, 35]}\n",
        "Результат: {98, 35, 15, 213, 54, 119}"
      ],
      "metadata": {
        "id": "LNdPAq9BbNyN"
      }
    },
    {
      "cell_type": "code",
      "execution_count": null,
      "metadata": {
        "colab": {
          "base_uri": "https://localhost:8080/"
        },
        "id": "2-vIe9J_bK3f",
        "outputId": "f8780ab0-a70e-4327-dc82-b7d2896caf5f"
      },
      "outputs": [
        {
          "output_type": "stream",
          "name": "stdout",
          "text": [
            "Результат: {98, 35, 15, 213, 54, 119}\n"
          ]
        }
      ],
      "source": [
        "ids = {'user1': [213, 213, 213, 15, 213], 'user2': [54, 54, 119, 119, 119], 'user3': [213, 98, 98, 35]}\n",
        "\n",
        "list_ = set()\n",
        "for geo_ids in ids.values():\n",
        "    list_.update(geo_ids)\n",
        "print('Результат:', list_)"
      ]
    },
    {
      "cell_type": "code",
      "source": [
        "print(set(sum(ids.values(), [])))"
      ],
      "metadata": {
        "colab": {
          "base_uri": "https://localhost:8080/"
        },
        "id": "KhG9MHwDb0S2",
        "outputId": "67d477fc-d615-4a87-b330-a4e6bf48e9b6"
      },
      "execution_count": null,
      "outputs": [
        {
          "output_type": "stream",
          "name": "stdout",
          "text": [
            "{98, 35, 15, 213, 54, 119}\n"
          ]
        }
      ]
    },
    {
      "cell_type": "markdown",
      "source": [
        "Задание 2\n",
        "Дана переменная, в которой хранится список поисковых запросов пользователя (пример структуры данных приведен ниже, но запросы потенциально могут быть любые). Вам необходимо написать программу, которая выведет на экран распределение количества слов в запросах в требуемом виде.\n",
        "\n",
        "Пример работы программы:\n",
        "\n",
        "queries = [\n",
        "‘смотреть сериалы онлайн’,\n",
        "‘новости спорта’,\n",
        "‘афиша кино’,\n",
        "‘курс доллара’,\n",
        "‘сериалы этим летом’,\n",
        "‘курс по питону’,\n",
        "‘сериалы про спорт’,\n",
        "]\n",
        "Результат:\n",
        "\n",
        "Поисковых запросов, содержащих 2 слов(а): 42.86%\n",
        "Поисковых запросов, содержащих 3 слов(а): 57.14%"
      ],
      "metadata": {
        "id": "IyLvRv0pjn-S"
      }
    },
    {
      "cell_type": "code",
      "source": [
        "queries = [\n",
        "'смотреть сериалы онлайн',\n",
        "'новости спорта',\n",
        "'афиша кино',\n",
        "'курс доллара',\n",
        "'сериалы этим летом',\n",
        "'курс по питону',\n",
        "'сериалы про спорт',\n",
        "]\n",
        "\n",
        "word_count = {}\n",
        "for query in queries:\n",
        "    x = len(query.split())\n",
        "    word_count.setdefault(x,0)\n",
        "    word_count[x]+= 1\n",
        "for key, value in sorted(word_count.items()):\n",
        "    print(f'Поисковых запросов, содержащих {key} слов(а): {round(value/len(queries)*100,2)}%')\n"
      ],
      "metadata": {
        "colab": {
          "base_uri": "https://localhost:8080/"
        },
        "id": "9IBOehAyjrHK",
        "outputId": "918805e4-42e0-405b-8091-2f0ce0f4e4a8"
      },
      "execution_count": null,
      "outputs": [
        {
          "output_type": "stream",
          "name": "stdout",
          "text": [
            "Поисковых запросов, содержащих 2 слов(а): 42.86%\n",
            "Поисковых запросов, содержащих 3 слов(а): 57.14%\n"
          ]
        }
      ]
    },
    {
      "cell_type": "markdown",
      "source": [
        "Задание 3\n",
        "Дана переменная, в которой хранится информация о затратах и доходе рекламных кампаний по различным источникам. Необходимо дополнить исходную структуру показателем ROI, который рассчитаем по формуле: ((revenue / cost) - 1) * 100\n",
        "\n",
        "Пример работы программы:\n",
        "\n",
        "results = {\n",
        "‘vk’: {‘revenue’: 103, ‘cost’: 98},\n",
        "‘yandex’: {‘revenue’: 179, ‘cost’: 153},\n",
        "‘facebook’: {‘revenue’: 103, ‘cost’: 110},\n",
        "‘adwords’: {‘revenue’: 35, ‘cost’: 34},\n",
        "‘twitter’: {‘revenue’: 11, ‘cost’: 24},\n",
        "}\n",
        "Результат:\n",
        "\n",
        "{‘adwords’: {‘revenue’: 35, ‘cost’: 34, ‘ROI’: 2.94},\n",
        "‘facebook’: {‘revenue’: 103, ‘cost’: 110, ‘ROI’: -6.36},\n",
        "‘twitter’: {‘revenue’: 11, ‘cost’: 24, ‘ROI’: -54.17},\n",
        "‘vk’: {‘revenue’: 103, ‘cost’: 98, ‘ROI’: 5.1},\n",
        "‘yandex’: {‘revenue’: 179, ‘cost’: 153, ‘ROI’: 16.99}}"
      ],
      "metadata": {
        "id": "EeNbOAtVtFTo"
      }
    },
    {
      "cell_type": "code",
      "source": [
        "results = {\n",
        "'vk': {'revenue': 103, 'cost': 98},\n",
        "'yandex': {'revenue': 179, 'cost': 153},\n",
        "'facebook': {'revenue': 103, 'cost': 110},\n",
        "'adwords': {'revenue': 35, 'cost': 34},\n",
        "'twitter': {'revenue': 11, 'cost': 24},\n",
        "}\n",
        "\n",
        "for value in results.values():\n",
        "    value['ROI'] = round((value['revenue']/value['cost']-1)*100,2)\n",
        "\n",
        "print('Результат: ', results)"
      ],
      "metadata": {
        "colab": {
          "base_uri": "https://localhost:8080/"
        },
        "id": "ImpRK1GCtV8g",
        "outputId": "04a2fe71-4adb-4f4f-ee8b-9cb254a67650"
      },
      "execution_count": null,
      "outputs": [
        {
          "output_type": "stream",
          "name": "stdout",
          "text": [
            "Результат:  {'vk': {'revenue': 103, 'cost': 98, 'ROI': 5.1}, 'yandex': {'revenue': 179, 'cost': 153, 'ROI': 16.99}, 'facebook': {'revenue': 103, 'cost': 110, 'ROI': -6.36}, 'adwords': {'revenue': 35, 'cost': 34, 'ROI': 2.94}, 'twitter': {'revenue': 11, 'cost': 24, 'ROI': -54.17}}\n"
          ]
        }
      ]
    },
    {
      "cell_type": "markdown",
      "source": [
        "Задание 4\n",
        "Дана переменная, в которой хранится статистика рекламных каналов по объемам продаж (пример структуры данных приведен ниже). Напишите программу, которая возвращает название канала с максимальным объемом продаж.\n",
        "\n",
        "Пример работы программы:\n",
        "\n",
        "stats = {‘facebook’: 55, ‘yandex’: 115, ‘vk’: 120, ‘google’: 99, ‘email’: 42, ‘ok’: 98}\n",
        "\n",
        "Результат: Максимальный объем продаж на рекламном канале: vk"
      ],
      "metadata": {
        "id": "6qWM-pw78io0"
      }
    },
    {
      "cell_type": "code",
      "source": [
        "stats = {'facebook': 55, 'yandex': 115, 'vk': 120, 'google': 99, 'email': 42, 'ok': 98}\n",
        "\n",
        "max_channel = max(stats, key=stats.get)\n",
        "\n",
        "print('Максимальный объем продаж на рекламном канале:', max_channel)"
      ],
      "metadata": {
        "colab": {
          "base_uri": "https://localhost:8080/"
        },
        "id": "LR0FdEzJ825L",
        "outputId": "5716e8c7-e81a-4e46-8c3c-4e98b08fcb78"
      },
      "execution_count": null,
      "outputs": [
        {
          "output_type": "stream",
          "name": "stdout",
          "text": [
            "Максимальный объем продаж на рекламном канале: vk\n"
          ]
        }
      ]
    },
    {
      "cell_type": "code",
      "source": [
        "# второе решение\n",
        "\n",
        "stats = {'facebook': 55, 'yandex': 115, 'vk': 120, 'google': 99, 'email': 42, 'ok': 98}\n",
        "\n",
        "max_channel = None\n",
        "max_value = 0\n",
        "\n",
        "for channel, value in stats.items():\n",
        "    if value > max_value:\n",
        "        max_value = value\n",
        "        max_channel = channel\n",
        "\n",
        "print('Максимальный объем продаж на рекламном канале:', max_channel)"
      ],
      "metadata": {
        "colab": {
          "base_uri": "https://localhost:8080/"
        },
        "id": "KXER3V94BwHq",
        "outputId": "c46783c6-fba8-4eb0-eefe-d3bd21a7d20a"
      },
      "execution_count": null,
      "outputs": [
        {
          "output_type": "stream",
          "name": "stdout",
          "text": [
            "Максимальный объем продаж на рекламном канале: vk\n"
          ]
        }
      ]
    },
    {
      "cell_type": "markdown",
      "source": [
        "Задание 5 (необязательно)\n",
        "Дан список произвольной длины. Необходимо написать код, который на основе исходного списка составит словарь такого уровня вложенности, какова длина исхондого списка.\n",
        "\n",
        "Примеры работы программы:\n",
        "\n",
        "my_list = [‘2018-01-01’, ‘yandex’, ‘cpc’, 100]\n",
        "Результат: {‘2018-01-01’: {‘yandex’: {‘cpc’: 100}}}\n",
        "\n",
        "my_list = [‘a’, ‘b’, ‘c’, ‘d’, ‘e’, ‘f’]\n",
        "Результат: {‘a’: {‘b’: {‘c’: {‘d’: {‘e’: ‘f’}}}}}"
      ],
      "metadata": {
        "id": "RNK2bMaOIeOZ"
      }
    },
    {
      "cell_type": "code",
      "source": [
        "# решение (с помощью гугла)\n",
        "\n",
        "my_list = ['2018-01-01', 'yandex', 'cpc', 100]\n",
        "\n",
        "my_dictionary = my_list[-1]\n",
        "\n",
        "for key in reversed(my_list[:-1]):\n",
        "    my_dictionary = {key: my_dictionary}\n",
        "\n",
        "print(my_dictionary)\n"
      ],
      "metadata": {
        "colab": {
          "base_uri": "https://localhost:8080/"
        },
        "id": "Bbr74-QCIj14",
        "outputId": "60389638-228f-4a83-e3ab-9da1247ed673"
      },
      "execution_count": null,
      "outputs": [
        {
          "output_type": "stream",
          "name": "stdout",
          "text": [
            "{'2018-01-01': {'yandex': {'cpc': 100}}}\n"
          ]
        }
      ]
    },
    {
      "cell_type": "markdown",
      "source": [
        "Задание 6 (необязательно)\n",
        "Дана книга рецептов с информацией о том, сколько ингредиентов нужно для приготовления блюда в расчете на одну порцию (пример данных представлен ниже).\n",
        "Напишите программу, которая будет запрашивать у пользователя количество порций для приготовления этих блюд и отображать информацию о суммарном количестве требуемых ингредиентов в указанном виде.\n",
        "Внимание! Одинаковые ингредиенты с разными размерностями нужно считать раздельно!"
      ],
      "metadata": {
        "id": "EkqNN6cycjw6"
      }
    },
    {
      "cell_type": "code",
      "source": [
        "cook_book = {\n",
        "'салат': [\n",
        "{'ingridient_name': 'сыр', 'quantity': 50, 'measure': 'гр'},\n",
        "{'ingridient_name': 'томаты', 'quantity': 2, 'measure': 'шт'},\n",
        "{'ingridient_name': 'огурцы', 'quantity': 20, 'measure': 'гр'},\n",
        "{'ingridient_name': 'маслины', 'quantity': 10, 'measure': 'гр'},\n",
        "{'ingridient_name': 'оливковое масло', 'quantity': 20, 'measure': 'мл'},\n",
        "{'ingridient_name': 'салат', 'quantity': 10, 'measure': 'гр'},\n",
        "{'ingridient_name': 'перец', 'quantity': 20, 'measure': 'гр'}\n",
        "],\n",
        "'пицца': [\n",
        "{'ingridient_name': 'сыр', 'quantity': 20, 'measure': 'гр'},\n",
        "{'ingridient_name': 'колбаса', 'quantity': 30, 'measure': 'гр'},\n",
        "{'ingridient_name': 'бекон', 'quantity': 30, 'measure': 'гр'},\n",
        "{'ingridient_name': 'оливки', 'quantity': 10, 'measure': 'гр'},\n",
        "{'ingridient_name': 'томаты', 'quantity': 20, 'measure': 'гр'},\n",
        "{'ingridient_name': 'тесто', 'quantity': 100, 'measure': 'гр'},\n",
        "],\n",
        "'лимонад': [\n",
        "{'ingridient_name': 'лимон', 'quantity': 1, 'measure': 'шт'},\n",
        "{'ingridient_name': 'вода', 'quantity': 200, 'measure': 'мл'},\n",
        "{'ingridient_name': 'сахар', 'quantity': 10, 'measure': 'гр'},\n",
        "{'ingridient_name': 'лайм', 'quantity': 20, 'measure': 'гр'},\n",
        "]\n",
        "}\n"
      ],
      "metadata": {
        "id": "2bZw5M4VcJNE"
      },
      "execution_count": null,
      "outputs": []
    },
    {
      "cell_type": "code",
      "source": [
        "person = 5\n",
        "shop_dict = {}\n",
        "for dish in cook_book.values():\n",
        "\tfor ingr in dish:\n",
        "\t\tkey = (ingr['ingridient_name'], ingr['measure'])\n",
        "\t\tshop_dict.setdefault(key, 0)\n",
        "\t\tshop_dict[key] += ingr['quantity'] * person\n",
        "\n",
        "for name, q in shop_dict.items():\n",
        "\tprint(f'{name[0]}: {q} {name[1]}')"
      ],
      "metadata": {
        "colab": {
          "base_uri": "https://localhost:8080/"
        },
        "id": "HaH5tOz-cFq6",
        "outputId": "cb68935f-ce76-4b0f-9ba0-846c4d43ab46"
      },
      "execution_count": null,
      "outputs": [
        {
          "output_type": "stream",
          "name": "stdout",
          "text": [
            "сыр: 350 гр\n",
            "томаты: 10 шт\n",
            "огурцы: 100 гр\n",
            "маслины: 50 гр\n",
            "оливковое масло: 100 мл\n",
            "салат: 50 гр\n",
            "перец: 100 гр\n",
            "колбаса: 150 гр\n",
            "бекон: 150 гр\n",
            "оливки: 50 гр\n",
            "томаты: 100 гр\n",
            "тесто: 500 гр\n",
            "лимон: 5 шт\n",
            "вода: 1000 мл\n",
            "сахар: 50 гр\n",
            "лайм: 100 гр\n"
          ]
        }
      ]
    },
    {
      "cell_type": "code",
      "source": [
        "def square(number):\n",
        "  result = number**2\n",
        "\n",
        "\n",
        "print(square(10))\n"
      ],
      "metadata": {
        "colab": {
          "base_uri": "https://localhost:8080/"
        },
        "id": "XzUVOJflyiAj",
        "outputId": "94a5aba2-771b-4677-8ee2-62d15c8fcfe7"
      },
      "execution_count": null,
      "outputs": [
        {
          "output_type": "stream",
          "name": "stdout",
          "text": [
            "None\n"
          ]
        }
      ]
    }
  ]
}